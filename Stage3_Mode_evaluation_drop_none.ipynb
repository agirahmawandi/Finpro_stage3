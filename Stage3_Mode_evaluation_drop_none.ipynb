{
 "cells": [
  {
   "cell_type": "code",
   "execution_count": 17,
   "id": "144335bb",
   "metadata": {},
   "outputs": [],
   "source": [
    "import pandas as pd \n",
    "import numpy as np\n",
    "import joblib\n",
    "import os\n",
    "import sklearn\n",
    "import xgboost\n",
    "import optuna\n",
    "from sklearn.model_selection import cross_val_score\n",
    "from sklearn.model_selection import train_test_split\n",
    "from sklearn.preprocessing import OneHotEncoder, OrdinalEncoder, StandardScaler, FunctionTransformer\n",
    "from sklearn.compose import ColumnTransformer\n",
    "from sklearn.pipeline import Pipeline\n",
    "from sklearn.linear_model import LogisticRegression\n",
    "from sklearn.neighbors import KNeighborsClassifier\n",
    "from sklearn.tree import DecisionTreeClassifier\n",
    "from sklearn.ensemble import RandomForestClassifier, GradientBoostingClassifier\n",
    "from sklearn.svm import SVC\n",
    "from sklearn.naive_bayes import GaussianNB\n",
    "from xgboost import XGBClassifier\n",
    "from sklearn.model_selection import RandomizedSearchCV\n",
    "from sklearn.base import BaseEstimator, TransformerMixin\n",
    "from sklearn.metrics import classification_report, roc_auc_score\n",
    "from sklearn.metrics import accuracy_score, precision_score, recall_score, f1_score, roc_auc_score\n",
    "from sklearn.base import BaseEstimator, TransformerMixin\n"
   ]
  },
  {
   "cell_type": "code",
   "execution_count": 18,
   "id": "21fedd5a",
   "metadata": {},
   "outputs": [
    {
     "name": "stdout",
     "output_type": "stream",
     "text": [
      "Python: 3.13.2 | packaged by Anaconda, Inc. | (main, Feb  6 2025, 18:49:14) [MSC v.1929 64 bit (AMD64)]\n",
      "pandas: 2.2.3\n",
      "numpy: 2.2.5\n",
      "scikit-learn: 1.6.1\n",
      "xgboost: 3.0.1\n",
      "joblib: 1.5.1\n"
     ]
    }
   ],
   "source": [
    "print(\"Python:\", os.sys.version)\n",
    "print(\"pandas:\", pd.__version__)\n",
    "print(\"numpy:\", np.__version__)\n",
    "print(\"scikit-learn:\", sklearn.__version__)\n",
    "print(\"xgboost:\", xgboost.__version__)\n",
    "print(\"joblib:\", joblib.__version__)"
   ]
  },
  {
   "cell_type": "markdown",
   "id": "725cce0d",
   "metadata": {},
   "source": [
    "## Environment dan Versi Library\n",
    "\n",
    "Notebook ini dijalankan menggunakan **Python 3.13.2 (Anaconda)** dengan versi library sebagai berikut:\n",
    "\n",
    "| Library       | Version  |\n",
    "|---------------|----------|\n",
    "| pandas        | 2.2.3    |\n",
    "| numpy         | 2.2.5    |\n",
    "| scikit-learn  | 1.6.1    |\n",
    "| xgboost       | 3.0.1    |\n",
    "| joblib        | 1.5.1    |\n",
    "\n",
    "Untuk mereplikasi environment ini, jalankan:\n",
    "```bash\n",
    "pip install -r requirements.txt\n"
   ]
  },
  {
   "cell_type": "code",
   "execution_count": 19,
   "id": "9da4c0fc",
   "metadata": {},
   "outputs": [
    {
     "name": "stdout",
     "output_type": "stream",
     "text": [
      "<class 'pandas.core.frame.DataFrame'>\n",
      "RangeIndex: 1500 entries, 0 to 1499\n",
      "Data columns (total 11 columns):\n",
      " #   Column               Non-Null Count  Dtype  \n",
      "---  ------               --------------  -----  \n",
      " 0   Age                  1500 non-null   int64  \n",
      " 1   Gender               1500 non-null   int64  \n",
      " 2   EducationLevel       1500 non-null   int64  \n",
      " 3   ExperienceYears      1500 non-null   int64  \n",
      " 4   PreviousCompanies    1500 non-null   int64  \n",
      " 5   DistanceFromCompany  1500 non-null   float64\n",
      " 6   InterviewScore       1500 non-null   int64  \n",
      " 7   SkillScore           1500 non-null   int64  \n",
      " 8   PersonalityScore     1500 non-null   int64  \n",
      " 9   RecruitmentStrategy  1500 non-null   int64  \n",
      " 10  HiringDecision       1500 non-null   int64  \n",
      "dtypes: float64(1), int64(10)\n",
      "memory usage: 129.0 KB\n"
     ]
    }
   ],
   "source": [
    "df=pd.read_csv('dataset/recruitment_data.csv')\n",
    "df.info()"
   ]
  },
  {
   "cell_type": "markdown",
   "id": "46d91a0d",
   "metadata": {},
   "source": [
    "## Convert data int to category "
   ]
  },
  {
   "cell_type": "code",
   "execution_count": 20,
   "id": "b42eeb56",
   "metadata": {},
   "outputs": [
    {
     "name": "stdout",
     "output_type": "stream",
     "text": [
      "<class 'pandas.core.frame.DataFrame'>\n",
      "RangeIndex: 1500 entries, 0 to 1499\n",
      "Data columns (total 11 columns):\n",
      " #   Column               Non-Null Count  Dtype  \n",
      "---  ------               --------------  -----  \n",
      " 0   Age                  1500 non-null   int64  \n",
      " 1   Gender               1500 non-null   int64  \n",
      " 2   EducationLevel       1500 non-null   int64  \n",
      " 3   ExperienceYears      1500 non-null   int64  \n",
      " 4   PreviousCompanies    1500 non-null   int64  \n",
      " 5   DistanceFromCompany  1500 non-null   float64\n",
      " 6   InterviewScore       1500 non-null   int64  \n",
      " 7   SkillScore           1500 non-null   int64  \n",
      " 8   PersonalityScore     1500 non-null   int64  \n",
      " 9   RecruitmentStrategy  1500 non-null   int64  \n",
      " 10  HiringDecision       1500 non-null   int64  \n",
      "dtypes: float64(1), int64(10)\n",
      "memory usage: 129.0 KB\n"
     ]
    }
   ],
   "source": [
    "df.info()"
   ]
  },
  {
   "cell_type": "markdown",
   "id": "dea9386c",
   "metadata": {},
   "source": [
    "##  Split Data "
   ]
  },
  {
   "cell_type": "markdown",
   "id": "e81ed885",
   "metadata": {},
   "source": [
    "## Pipeline Data Preprocessing"
   ]
  },
  {
   "cell_type": "code",
   "execution_count": null,
   "id": "948e95e5",
   "metadata": {},
   "outputs": [],
   "source": [
    "# =====================\n",
    "# 1. Load data from CSV\n",
    "# =====================\n",
    "train_df = pd.read_csv(\"dataset/train.csv\")\n",
    "test_df = pd.read_csv(\"dataset/test.csv\")\n",
    "\n",
    "X_train = train_df.drop([\"HiringDecision\", \"Age\", \"DistanceFromCompany\", \"Gender\",'PreviousCompanies'], axis=1)\n",
    "y_train = train_df[\"HiringDecision\"]\n",
    "\n",
    "X_test = test_df.drop([\"HiringDecision\", \"Age\", \"DistanceFromCompany\", \"Gender\",'PreviousCompanies'], axis=1)\n",
    "y_test = test_df[\"HiringDecision\"]\n"
   ]
  },
  {
   "cell_type": "code",
   "execution_count": 32,
   "id": "2ce3471c",
   "metadata": {},
   "outputs": [
    {
     "name": "stdout",
     "output_type": "stream",
     "text": [
      "<class 'pandas.core.frame.DataFrame'>\n",
      "RangeIndex: 1200 entries, 0 to 1199\n",
      "Data columns (total 6 columns):\n",
      " #   Column               Non-Null Count  Dtype\n",
      "---  ------               --------------  -----\n",
      " 0   EducationLevel       1200 non-null   int64\n",
      " 1   ExperienceYears      1200 non-null   int64\n",
      " 2   InterviewScore       1200 non-null   int64\n",
      " 3   SkillScore           1200 non-null   int64\n",
      " 4   PersonalityScore     1200 non-null   int64\n",
      " 5   RecruitmentStrategy  1200 non-null   int64\n",
      "dtypes: int64(6)\n",
      "memory usage: 56.4 KB\n"
     ]
    }
   ],
   "source": [
    "X_train.info()\n"
   ]
  },
  {
   "cell_type": "code",
   "execution_count": 22,
   "id": "38391930",
   "metadata": {},
   "outputs": [
    {
     "name": "stdout",
     "output_type": "stream",
     "text": [
      "Pipeline preprocessing berhasil disimpan.\n",
      "Train shape: (1200, 13)\n",
      "Test shape : (300, 13)\n"
     ]
    }
   ],
   "source": [
    "\n",
    "# =====================\n",
    "# 3. Preprocessing setup\n",
    "# =====================\n",
    "\n",
    "class DataCleaner(BaseEstimator, TransformerMixin):\n",
    "    def __init__(self):\n",
    "        pass\n",
    "    \n",
    "    def fit(self, X, y=None):\n",
    "        return self\n",
    "    \n",
    "    def transform(self, X):\n",
    "        X = X.copy()\n",
    "        \n",
    "        # 1. Drop duplicates\n",
    "        X = X.drop_duplicates()\n",
    "        \n",
    "        # 2. Missing value handling\n",
    "        for col in X.select_dtypes(include=[\"float\", \"int\"]).columns:\n",
    "            X[col] = X[col].fillna(X[col].median())   # numeric → median\n",
    "        for col in X.select_dtypes(include=[\"object\"]).columns:\n",
    "            X[col] = X[col].fillna(X[col].mode()[0]) # categorical → modus\n",
    "        \n",
    "        # 3. Outlier handling (IQR method pada numerical)\n",
    "        for col in X.select_dtypes(include=[\"float\", \"int\"]).columns:\n",
    "            Q1 = X[col].quantile(0.25)\n",
    "            Q3 = X[col].quantile(0.75)\n",
    "            IQR = Q3 - Q1\n",
    "            lower, upper = Q1 - 1.5*IQR, Q3 + 1.5*IQR\n",
    "            X[col] = np.where(X[col] < lower, lower,\n",
    "                              np.where(X[col] > upper, upper, X[col]))\n",
    "        \n",
    "        return X\n",
    "    \n",
    "# b. ExperienceYears → binning (junior/mid/senior)\n",
    "def bin_experience(x):\n",
    "    bins = np.array(x).astype(int).ravel()\n",
    "    labels = []\n",
    "    for v in bins:\n",
    "        if v <=2:\n",
    "            labels.append(\"Junior\")\n",
    "        elif v <=5:\n",
    "            labels.append(\"Mid\")\n",
    "        else:\n",
    "            labels.append(\"Senior\")\n",
    "    return np.array(labels).reshape(-1,1)\n",
    "\n",
    "\n",
    "# a. EducationLevel → OH encode\n",
    "edu_pipeline = Pipeline([\n",
    "    (\"onehot\", OneHotEncoder(drop=None))  # one-hot encode EducationLevel\n",
    "])\n",
    "\n",
    "exp_pipeline = Pipeline([\n",
    "    (\"binning\", FunctionTransformer(bin_experience, validate=False,feature_names_out=\"one-to-one\")),\n",
    "    (\"onehot\", OneHotEncoder(drop=None))  # one-hot encode hasil binning\n",
    "])\n",
    "\n",
    "# c. RecruitmentStrategy → one-hot encode\n",
    "recruitment_pipeline = Pipeline([\n",
    "    (\"onehot\", OneHotEncoder(drop=None))\n",
    "])\n",
    "\n",
    "# d. Numerical features → scaling\n",
    "num_features = [\"InterviewScore\", \"SkillScore\", \"PersonalityScore\"]\n",
    "num_pipeline = Pipeline([\n",
    "    (\"scaler\", StandardScaler())\n",
    "])\n",
    "\n",
    "# =====================\n",
    "# 4. ColumnTransformer\n",
    "# =====================\n",
    "preprocessor = ColumnTransformer(\n",
    "    transformers=[\n",
    "        (\"num\", num_pipeline, num_features),\n",
    "        (\"recruitment\", recruitment_pipeline, [\"RecruitmentStrategy\"]),\n",
    "        (\"education\", edu_pipeline, [\"EducationLevel\"]),        \n",
    "        (\"experience\", exp_pipeline, [\"ExperienceYears\"]),\n",
    "        \n",
    "    ],\n",
    "    remainder=\"drop\"\n",
    ")\n",
    "\n",
    "\n",
    "# Pipeline gabungan: cleaning + preprocessing\n",
    "\n",
    "\n",
    "preprocessor.fit(X_train)\n",
    "# # Simpan pipeline preprocessing\n",
    "joblib.dump(preprocessor, \"preprocesor_none.pkl\")\n",
    "print(\"Pipeline preprocessing berhasil disimpan.\")\n",
    "\n",
    "\n",
    "\n",
    "full_pipeline = Pipeline([\n",
    "    (\"cleaning\", DataCleaner()),   # tahap cleaning\n",
    "    (\"preprocessing\", preprocessor) # tahap preprocessing (OH, scaling, dsb.)\n",
    "])\n",
    "# Transform data\n",
    "X_train_transformed = full_pipeline.fit_transform(X_train)\n",
    "X_test_transformed  = full_pipeline.transform(X_test)\n",
    "\n",
    "print(\"Train shape:\", X_train_transformed.shape)\n",
    "print(\"Test shape :\", X_test_transformed.shape)\n",
    "\n",
    "\n",
    "\n"
   ]
  },
  {
   "cell_type": "markdown",
   "id": "b1a1937f",
   "metadata": {},
   "source": [
    "## Modeling"
   ]
  },
  {
   "cell_type": "code",
   "execution_count": 23,
   "id": "42dda5d9",
   "metadata": {},
   "outputs": [],
   "source": [
    "# =========================================\n",
    "# Fungsi Evaluasi Model (Train vs Test)\n",
    "# =========================================\n",
    "def evaluate_train_test(model, X_train, y_train, X_test, y_test, model_name=\"Model\"):\n",
    "    # Prediksi Train\n",
    "    y_train_pred = model.predict(X_train)\n",
    "    y_train_prob = model.predict_proba(X_train)[:, 1]\n",
    "\n",
    "    # Prediksi Test\n",
    "    y_test_pred = model.predict(X_test)\n",
    "    y_test_prob = model.predict_proba(X_test)[:, 1]\n",
    "\n",
    "    # Hasil Train\n",
    "    train_results = {\n",
    "        \"Accuracy\": accuracy_score(y_train, y_train_pred),\n",
    "        \"Precision\": precision_score(y_train, y_train_pred),\n",
    "        \"Recall\": recall_score(y_train, y_train_pred),\n",
    "        \"F1-Score\": f1_score(y_train, y_train_pred),\n",
    "        \"ROC-AUC\": roc_auc_score(y_train, y_train_prob)\n",
    "    }\n",
    "\n",
    "    # Hasil Test\n",
    "    test_results = {\n",
    "        \"Accuracy\": accuracy_score(y_test, y_test_pred),\n",
    "        \"Precision\": precision_score(y_test, y_test_pred),\n",
    "        \"Recall\": recall_score(y_test, y_test_pred),\n",
    "        \"F1-Score\": f1_score(y_test, y_test_pred),\n",
    "        \"ROC-AUC\": roc_auc_score(y_test, y_test_prob)\n",
    "    }\n",
    "\n",
    "    # Gap (%)\n",
    "    gap_results = {m: 100 * (train_results[m] - test_results[m]) for m in train_results}\n",
    "\n",
    "    # Buat DataFrame untuk tampilan tabel\n",
    "    df_results = pd.DataFrame([\n",
    "        {\"Model\": model_name, \"Dataset\": \"Train\", **train_results},\n",
    "        {\"Model\": model_name, \"Dataset\": \"Test\", **test_results},\n",
    "        {\"Model\": model_name, \"Dataset\": \"Gap (%)\", **gap_results},\n",
    "    ])\n",
    "\n",
    "    return df_results"
   ]
  },
  {
   "cell_type": "markdown",
   "id": "51cdd4bb",
   "metadata": {},
   "source": [
    "## XGBoost memberikan hasil yang lebih baik dan stabil"
   ]
  },
  {
   "cell_type": "code",
   "execution_count": 24,
   "id": "6e49bb78",
   "metadata": {},
   "outputs": [
    {
     "name": "stdout",
     "output_type": "stream",
     "text": [
      "Fitting 5 folds for each of 30 candidates, totalling 150 fits\n",
      "========================================\n",
      "===== Hasil Hyperparameter Tuning  RandomizedSearchCV (XGBoost) =====\n",
      "Best Hyperparameter: {'subsample': 0.8, 'n_estimators': np.int64(400), 'max_depth': 2, 'learning_rate': np.float64(0.07444444444444444), 'gamma': 1, 'colsample_bytree': 0.8}\n",
      "Best F1 Score : 0.8911590423304094\n"
     ]
    },
    {
     "data": {
      "text/html": [
       "<div>\n",
       "<style scoped>\n",
       "    .dataframe tbody tr th:only-of-type {\n",
       "        vertical-align: middle;\n",
       "    }\n",
       "\n",
       "    .dataframe tbody tr th {\n",
       "        vertical-align: top;\n",
       "    }\n",
       "\n",
       "    .dataframe thead th {\n",
       "        text-align: right;\n",
       "    }\n",
       "</style>\n",
       "<table border=\"1\" class=\"dataframe\">\n",
       "  <thead>\n",
       "    <tr style=\"text-align: right;\">\n",
       "      <th></th>\n",
       "      <th>Model</th>\n",
       "      <th>Dataset</th>\n",
       "      <th>Accuracy</th>\n",
       "      <th>Precision</th>\n",
       "      <th>Recall</th>\n",
       "      <th>F1-Score</th>\n",
       "      <th>ROC-AUC</th>\n",
       "    </tr>\n",
       "  </thead>\n",
       "  <tbody>\n",
       "    <tr>\n",
       "      <th>0</th>\n",
       "      <td>XGBoost</td>\n",
       "      <td>Train</td>\n",
       "      <td>0.961667</td>\n",
       "      <td>0.965714</td>\n",
       "      <td>0.908602</td>\n",
       "      <td>0.936288</td>\n",
       "      <td>0.961090</td>\n",
       "    </tr>\n",
       "    <tr>\n",
       "      <th>1</th>\n",
       "      <td>XGBoost</td>\n",
       "      <td>Test</td>\n",
       "      <td>0.930000</td>\n",
       "      <td>0.950000</td>\n",
       "      <td>0.817204</td>\n",
       "      <td>0.878613</td>\n",
       "      <td>0.929458</td>\n",
       "    </tr>\n",
       "    <tr>\n",
       "      <th>2</th>\n",
       "      <td>XGBoost</td>\n",
       "      <td>Gap (%)</td>\n",
       "      <td>3.166667</td>\n",
       "      <td>1.571429</td>\n",
       "      <td>9.139785</td>\n",
       "      <td>5.767537</td>\n",
       "      <td>3.163147</td>\n",
       "    </tr>\n",
       "  </tbody>\n",
       "</table>\n",
       "</div>"
      ],
      "text/plain": [
       "     Model  Dataset  Accuracy  Precision    Recall  F1-Score   ROC-AUC\n",
       "0  XGBoost    Train  0.961667   0.965714  0.908602  0.936288  0.961090\n",
       "1  XGBoost     Test  0.930000   0.950000  0.817204  0.878613  0.929458\n",
       "2  XGBoost  Gap (%)  3.166667   1.571429  9.139785  5.767537  3.163147"
      ]
     },
     "metadata": {},
     "output_type": "display_data"
    }
   ],
   "source": [
    "# =========================================\n",
    "# 3. XGBoost\n",
    "# =========================================\n",
    "xgb = XGBClassifier(random_state=42, eval_metric='logloss')\n",
    "\n",
    "\n",
    "xgb_param_dist = {\n",
    "    'n_estimators': np.arange(100, 501, 50),\n",
    "    'learning_rate': np.linspace(0.01, 0.3, 10),\n",
    "    'max_depth': [2, 3, 5, 7],\n",
    "    'subsample': [0.6, 0.8, 1.0],\n",
    "    'colsample_bytree': [0.6, 0.8, 1.0],\n",
    "    'gamma': [0, 1, 5]\n",
    "}\n",
    "\n",
    "xgb_random = RandomizedSearchCV(\n",
    "    estimator=xgb,\n",
    "    param_distributions=xgb_param_dist,\n",
    "    n_iter=30,\n",
    "    cv=5,\n",
    "    scoring='f1',\n",
    "    verbose=2,\n",
    "    random_state=42,\n",
    "    n_jobs=-1\n",
    ")\n",
    "xgb_random.fit(X_train_transformed, y_train)\n",
    "\n",
    "print(\"=\"*40)\n",
    "print(\"===== Hasil Hyperparameter Tuning  RandomizedSearchCV (XGBoost) =====\")\n",
    "print(\"Best Hyperparameter:\", xgb_random.best_params_)\n",
    "print(\"Best F1 Score :\", xgb_random.best_score_)\n",
    "\n",
    "best_xgb = xgb_random.best_estimator_\n",
    "df_xgb_eval = evaluate_train_test(best_xgb, X_train_transformed, y_train,\n",
    "                                  X_test_transformed, y_test,\n",
    "                                  model_name=\"XGBoost\")\n",
    "display(df_xgb_eval)\n"
   ]
  },
  {
   "cell_type": "markdown",
   "id": "4d348754",
   "metadata": {},
   "source": []
  },
  {
   "cell_type": "code",
   "execution_count": 25,
   "id": "acd97179",
   "metadata": {},
   "outputs": [
    {
     "name": "stdout",
     "output_type": "stream",
     "text": [
      "\n",
      "Model terbaik berhasil disimpan di file 'best_xgboost_model_none.pkl'\n"
     ]
    }
   ],
   "source": [
    "model_filename = 'best_xgboost_model_none.pkl'\n",
    "joblib.dump(best_xgb, model_filename)\n",
    "print(f\"\\nModel terbaik berhasil disimpan di file '{model_filename}'\")"
   ]
  },
  {
   "cell_type": "code",
   "execution_count": 26,
   "id": "475386ee",
   "metadata": {},
   "outputs": [
    {
     "name": "stdout",
     "output_type": "stream",
     "text": [
      "\n",
      "Model terbaik berhasil disimpan di file \n"
     ]
    }
   ],
   "source": [
    "joblib.dump(best_xgb, 'best_xgboost_model_none.joblib')\n",
    "print(f\"\\nModel terbaik berhasil disimpan di file \")"
   ]
  },
  {
   "cell_type": "code",
   "execution_count": 27,
   "id": "676cf363",
   "metadata": {},
   "outputs": [
    {
     "name": "stdout",
     "output_type": "stream",
     "text": [
      "Prediksi berhasil dilakukan.\n"
     ]
    }
   ],
   "source": [
    "y_pred = best_xgboost_model.predict(X_test_transformed)\n",
    "print(\"Prediksi berhasil dilakukan.\")"
   ]
  },
  {
   "cell_type": "code",
   "execution_count": 28,
   "id": "cdab4d2e",
   "metadata": {},
   "outputs": [
    {
     "data": {
      "image/png": "[encoded data removed]",
      "text/plain": [
       "<Figure size 640x480 with 2 Axes>"
      ]
     },
     "metadata": {},
     "output_type": "display_data"
    },
    {
     "name": "stdout",
     "output_type": "stream",
     "text": [
      "Confusion Matrix:\n",
      "[[203   4]\n",
      " [ 17  76]]\n"
     ]
    }
   ],
   "source": [
    "from sklearn.metrics import confusion_matrix, ConfusionMatrixDisplay\n",
    "import matplotlib.pyplot as plt\n",
    "\n",
    "# Hitung confusion matrix\n",
    "cm = confusion_matrix(y_test, y_pred)\n",
    "\n",
    "# Tampilkan visualisasi confusion matrix\n",
    "disp = ConfusionMatrixDisplay(confusion_matrix=cm, display_labels=best_xgboost_model.classes_)\n",
    "disp.plot(cmap='PuBu')\n",
    "\n",
    "# Tambahkan judul dan tampilkan plot\n",
    "plt.title('Confusion Matrix for Best XGBoost Model')\n",
    "plt.show()\n",
    "\n",
    "# Jika ingin melihat angkanya saja\n",
    "print(\"Confusion Matrix:\")\n",
    "print(cm)"
   ]
  },
  {
   "cell_type": "code",
   "execution_count": 29,
   "id": "57db7cf5",
   "metadata": {},
   "outputs": [],
   "source": [
    "def evaluate_models(models, X_train, y_train, X_test, y_test, save_csv=True):\n",
    "    results = []\n",
    "\n",
    "    for name, model in models.items():\n",
    "        model.fit(X_train, y_train)\n",
    "\n",
    "        # === TRAIN ===\n",
    "        y_train_pred = model.predict(X_train)\n",
    "        y_train_prob = model.predict_proba(X_train)[:, 1]\n",
    "        report_train = classification_report(y_train, y_train_pred, output_dict=True)\n",
    "        roc_auc_train = roc_auc_score(y_train, y_train_prob)\n",
    "\n",
    "        # === TEST ===\n",
    "        y_test_pred = model.predict(X_test)\n",
    "        y_test_prob = model.predict_proba(X_test)[:, 1]\n",
    "        report_test = classification_report(y_test, y_test_pred, output_dict=True)\n",
    "        roc_auc_test = roc_auc_score(y_test, y_test_prob)\n",
    "\n",
    "        # === Gabungkan semua metrik ===\n",
    "        metrics = {\n",
    "            \"Model\":               [name, name],  # supaya ada di Train & Test\n",
    "            \"Precision \": [round(report_train[\"1\"][\"precision\"], 4), round(report_test[\"1\"][\"precision\"], 4)],\n",
    "            # \"Recall (class 1)\":    [round(report_train[\"1\"][\"recall\"], 3),    round(report_test[\"1\"][\"recall\"], 3)],\n",
    "            \"F1-score \":  [round(report_train[\"1\"][\"f1-score\"], 4),  round(report_test[\"1\"][\"f1-score\"], 4)],\n",
    "            # \"Accuracy\":            [round(report_train[\"accuracy\"], 3),       round(report_test[\"accuracy\"], 3)],\n",
    "            \"ROC AUC\":             [round(roc_auc_train, 3),                  round(roc_auc_test, 5)]\n",
    "        }\n",
    "\n",
    "        df_metrics = pd.DataFrame(metrics, index=[\"Train\", \"Test\"])\n",
    "\n",
    "        # === Hitung Gap (%) hanya untuk kolom numerik ===\n",
    "        numeric_cols = df_metrics.select_dtypes(include=\"number\").columns\n",
    "        gap_values = ((df_metrics.loc[\"Train\", numeric_cols] - df_metrics.loc[\"Test\", numeric_cols])\n",
    "                      / df_metrics.loc[\"Train\", numeric_cols] * 100).round(2)\n",
    "\n",
    "        # tambahkan model di gap row\n",
    "        gap_row = pd.Series({col: gap_values.get(col, None) for col in df_metrics.columns} | {\"Model\": name},name=\"Gap (%)\")\n",
    "\n",
    "        # gap_row = pd.Series({col: gap_values.get(col, None) for col in df_metrics.columns}, name=\"Gap (%)\")\n",
    "        gap_row[\"Model\"] = name\n",
    "\n",
    "        # gabungkan\n",
    "        df_metrics = pd.concat([df_metrics, gap_row.to_frame().T])\n",
    "\n",
    "        # Reset index agar ada kolom Dataset\n",
    "        df_metrics = df_metrics.reset_index().rename(columns={\"index\": \"Dataset\"})\n",
    "\n",
    "          # Hanya ambil baris Test & Gap\n",
    "        df_metrics = df_metrics[df_metrics[\"Dataset\"].isin([\"Test\", \"Gap (%)\"])]\n",
    "\n",
    "        # Urutkan kolom: Model dulu\n",
    "        cols = [\"Model\", \"Dataset\"] + [c for c in df_metrics.columns if c not in [\"Model\", \"Dataset\"]]\n",
    "        df_metrics = df_metrics[cols]\n",
    "\n",
    "        results.append(df_metrics)\n",
    "\n",
    "    # Gabungkan semua hasil\n",
    "    final_results = pd.concat(results, ignore_index=True)\n",
    "\n",
    "    # === Ranking berdasarkan ROC AUC Test ===\n",
    "    ranking = (\n",
    "        final_results[final_results[\"Dataset\"] == \"Test\"]\n",
    "        .sort_values(by=\"ROC AUC\", ascending=False)[[\"Model\", \"ROC AUC\"]]\n",
    "        .reset_index(drop=True)\n",
    "    )\n",
    "    ranking.index = ranking.index + 1  # biar mulai dari 1\n",
    "\n",
    "    return final_results, ranking\n"
   ]
  },
  {
   "cell_type": "code",
   "execution_count": 30,
   "id": "4a9b0d99",
   "metadata": {},
   "outputs": [
    {
     "name": "stdout",
     "output_type": "stream",
     "text": [
      "\n",
      "📊 Hasil Evaluasi Model:\n"
     ]
    },
    {
     "data": {
      "text/html": [
       "<div>\n",
       "<style scoped>\n",
       "    .dataframe tbody tr th:only-of-type {\n",
       "        vertical-align: middle;\n",
       "    }\n",
       "\n",
       "    .dataframe tbody tr th {\n",
       "        vertical-align: top;\n",
       "    }\n",
       "\n",
       "    .dataframe thead th {\n",
       "        text-align: right;\n",
       "    }\n",
       "</style>\n",
       "<table border=\"1\" class=\"dataframe\">\n",
       "  <thead>\n",
       "    <tr style=\"text-align: right;\">\n",
       "      <th></th>\n",
       "      <th>Model</th>\n",
       "      <th>Dataset</th>\n",
       "      <th>Precision</th>\n",
       "      <th>F1-score</th>\n",
       "      <th>ROC AUC</th>\n",
       "    </tr>\n",
       "  </thead>\n",
       "  <tbody>\n",
       "    <tr>\n",
       "      <th>0</th>\n",
       "      <td>Logistic Regression</td>\n",
       "      <td>Test</td>\n",
       "      <td>0.7547</td>\n",
       "      <td>0.804</td>\n",
       "      <td>0.92187</td>\n",
       "    </tr>\n",
       "    <tr>\n",
       "      <th>1</th>\n",
       "      <td>Logistic Regression</td>\n",
       "      <td>Gap (%)</td>\n",
       "      <td>1.048905</td>\n",
       "      <td>2.106417</td>\n",
       "      <td>0.553398</td>\n",
       "    </tr>\n",
       "    <tr>\n",
       "      <th>2</th>\n",
       "      <td>XGBoost (Tuned)</td>\n",
       "      <td>Test</td>\n",
       "      <td>0.95</td>\n",
       "      <td>0.8786</td>\n",
       "      <td>0.92946</td>\n",
       "    </tr>\n",
       "    <tr>\n",
       "      <th>3</th>\n",
       "      <td>XGBoost (Tuned)</td>\n",
       "      <td>Gap (%)</td>\n",
       "      <td>1.625764</td>\n",
       "      <td>6.162555</td>\n",
       "      <td>3.281998</td>\n",
       "    </tr>\n",
       "  </tbody>\n",
       "</table>\n",
       "</div>"
      ],
      "text/plain": [
       "                 Model  Dataset Precision  F1-score    ROC AUC\n",
       "0  Logistic Regression     Test     0.7547     0.804   0.92187\n",
       "1  Logistic Regression  Gap (%)   1.048905  2.106417  0.553398\n",
       "2      XGBoost (Tuned)     Test       0.95    0.8786   0.92946\n",
       "3      XGBoost (Tuned)  Gap (%)   1.625764  6.162555  3.281998"
      ]
     },
     "metadata": {},
     "output_type": "display_data"
    },
    {
     "name": "stdout",
     "output_type": "stream",
     "text": [
      "\n",
      "🏆 Ranking Model berdasarkan ROC AUC (Test):\n"
     ]
    },
    {
     "data": {
      "text/html": [
       "<div>\n",
       "<style scoped>\n",
       "    .dataframe tbody tr th:only-of-type {\n",
       "        vertical-align: middle;\n",
       "    }\n",
       "\n",
       "    .dataframe tbody tr th {\n",
       "        vertical-align: top;\n",
       "    }\n",
       "\n",
       "    .dataframe thead th {\n",
       "        text-align: right;\n",
       "    }\n",
       "</style>\n",
       "<table border=\"1\" class=\"dataframe\">\n",
       "  <thead>\n",
       "    <tr style=\"text-align: right;\">\n",
       "      <th></th>\n",
       "      <th>Model</th>\n",
       "      <th>ROC AUC</th>\n",
       "    </tr>\n",
       "  </thead>\n",
       "  <tbody>\n",
       "    <tr>\n",
       "      <th>1</th>\n",
       "      <td>XGBoost (Tuned)</td>\n",
       "      <td>0.92946</td>\n",
       "    </tr>\n",
       "    <tr>\n",
       "      <th>2</th>\n",
       "      <td>Logistic Regression</td>\n",
       "      <td>0.92187</td>\n",
       "    </tr>\n",
       "  </tbody>\n",
       "</table>\n",
       "</div>"
      ],
      "text/plain": [
       "                 Model  ROC AUC\n",
       "1      XGBoost (Tuned)  0.92946\n",
       "2  Logistic Regression  0.92187"
      ]
     },
     "metadata": {},
     "output_type": "display_data"
    }
   ],
   "source": [
    "models = {\n",
    "    \"Logistic Regression\": LogisticRegression(max_iter=1000, random_state=42,class_weight=\"balanced\"),\n",
    "    \"XGBoost (Tuned)\": best_xgb\n",
    "}\n",
    "\n",
    "# ==== Panggil fungsi ====\n",
    "final_results_xgb_logreg, ranking = evaluate_models(models, X_train_transformed, y_train, X_test_transformed, y_test)\n",
    "\n",
    "print(\"\\n📊 Hasil Evaluasi Model:\")\n",
    "display(final_results_xgb_logreg)\n",
    "\n",
    "print(\"\\n🏆 Ranking Model berdasarkan ROC AUC (Test):\")\n",
    "display(ranking)\n",
    "# # # Nama folder yang diinginkan\n",
    "# folder_path = 'file_exp'\n",
    "\n",
    "# # Cek apakah folder sudah ada, jika tidak, buat folder tersebut\n",
    "# if not os.path.exists(folder_path):\n",
    "#     os.path.makedirs(folder_path)\n",
    "#     print(f\"Folder '{folder_path}' berhasil dibuat.\")\n",
    "\n",
    "# # Buat path lengkap untuk file Excel\n",
    "# file_path = os.path.join(folder_path, 'final_results_xgb_logreg.xlsx')\n",
    "\n",
    "# # Asumsikan 'hasil_evaluasi' adalah DataFrame\n",
    "# final_results_xgb_logreg.to_excel(file_path, index=True)\n",
    "\n",
    "# print(f\"Hasil evaluasi telah berhasil disimpan ke: {file_path}\")"
   ]
  },
  {
   "cell_type": "code",
   "execution_count": null,
   "id": "f9b66b79",
   "metadata": {},
   "outputs": [],
   "source": []
  }
 ],
 "metadata": {
  "kernelspec": {
   "display_name": "latihan_env",
   "language": "python",
   "name": "python3"
  },
  "language_info": {
   "codemirror_mode": {
    "name": "ipython",
    "version": 3
   },
   "file_extension": ".py",
   "mimetype": "text/x-python",
   "name": "python",
   "nbconvert_exporter": "python",
   "pygments_lexer": "ipython3",
   "version": "3.13.2"
  }
 },
 "nbformat": 4,
 "nbformat_minor": 5
}
